{
 "cells": [
  {
   "cell_type": "code",
   "execution_count": 8,
   "metadata": {},
   "outputs": [],
   "source": [
    "import pandas as pd\n",
    "from astropy.table import QTable\n",
    "from matplotlib import pyplot as plt"
   ]
  },
  {
   "cell_type": "code",
   "execution_count": 10,
   "metadata": {},
   "outputs": [],
   "source": [
    "URGdata = [(\n",
    "0.34,19.60,2.89,4.29,19.73,0.00,106.80,0.00),\n",
    "(0.68,32.50,2.89,6.17,28.00,0.00,66.32,0.00),\n",
    "(1.02,41.90,2.89,5.94,31.57,0.00,28.35,0.00),\n",
    "(1.37,50.60,2.89,8.81,31.98,0.00,17.64,0.00),\n",
    "(1.71,57.00,2.89,15.21,31.44,0.00,8.30,0.00),\n",
    "(2.05,60.50,2.89,17.87,29.65,0.00,4.37,0.00),\n",
    "(2.39,60.50,2.89,17.46,27.89,0.00,2.30,0.00),\n",
    "(2.74,60.00,2.89,15.96,26.14,0.00,1.18,0.00),\n",
    "(3.08,61.50,2.89,15.55,24.58,0.00,0.62,0.00),\n",
    "(3.42,61.50,2.89,16.29,23.19,0.00,0.33,0.00),\n",
    "(3.76,63.00,2.89,16.96,21.99,0.00,0.17,0.00),\n",
    "(4.11,64.00,2.89,17.21,20.84,0.00,0.00,0.00)]\n"
   ]
  },
  {
   "cell_type": "code",
   "execution_count": 11,
   "metadata": {},
   "outputs": [],
   "source": [
    "URGtabela = QTable(rows=NGCdata, names=('Raio', 'Vstars', 'Erro', 'Vgas', 'e', 'f', 'g', 'h'))\n"
   ]
  },
  {
   "cell_type": "code",
   "execution_count": 12,
   "metadata": {},
   "outputs": [
    {
     "name": "stdout",
     "output_type": "stream",
     "text": [
      "Raio Vstars Erro  Vgas   e    f    g    h \n",
      "---- ------ ---- ----- ----- --- ----- ---\n",
      "0.34   19.6 2.89  4.29 19.73 0.0 106.8 0.0\n",
      "0.68   32.5 2.89  6.17  28.0 0.0 66.32 0.0\n",
      "1.02   41.9 2.89  5.94 31.57 0.0 28.35 0.0\n",
      "1.37   50.6 2.89  8.81 31.98 0.0 17.64 0.0\n",
      "1.71   57.0 2.89 15.21 31.44 0.0   8.3 0.0\n",
      "2.05   60.5 2.89 17.87 29.65 0.0  4.37 0.0\n",
      "2.39   60.5 2.89 17.46 27.89 0.0   2.3 0.0\n",
      "2.74   60.0 2.89 15.96 26.14 0.0  1.18 0.0\n",
      "3.08   61.5 2.89 15.55 24.58 0.0  0.62 0.0\n",
      "3.42   61.5 2.89 16.29 23.19 0.0  0.33 0.0\n",
      "3.76   63.0 2.89 16.96 21.99 0.0  0.17 0.0\n",
      "4.11   64.0 2.89 17.21 20.84 0.0   0.0 0.0\n"
     ]
    }
   ],
   "source": [
    "print(URGtabela)"
   ]
  },
  {
   "cell_type": "code",
   "execution_count": 13,
   "metadata": {},
   "outputs": [
    {
     "ename": "NameError",
     "evalue": "name 'astropy' is not defined",
     "output_type": "error",
     "traceback": [
      "\u001b[1;31m---------------------------------------------------------------------------\u001b[0m",
      "\u001b[1;31mNameError\u001b[0m                                 Traceback (most recent call last)",
      "\u001b[1;32m<ipython-input-13-cc0d3377fb5a>\u001b[0m in \u001b[0;36m<module>\u001b[1;34m()\u001b[0m\n\u001b[1;32m----> 1\u001b[1;33m \u001b[0mastropy\u001b[0m\u001b[1;33m.\u001b[0m\u001b[0mio\u001b[0m\u001b[1;33m.\u001b[0m\u001b[0mascii\u001b[0m\u001b[1;33m\u001b[0m\u001b[0m\n\u001b[0m",
      "\u001b[1;31mNameError\u001b[0m: name 'astropy' is not defined"
     ]
    }
   ],
   "source": []
  },
  {
   "cell_type": "code",
   "execution_count": null,
   "metadata": {},
   "outputs": [],
   "source": []
  }
 ],
 "metadata": {
  "kernelspec": {
   "display_name": "Python 3",
   "language": "python",
   "name": "python3"
  },
  "language_info": {
   "codemirror_mode": {
    "name": "ipython",
    "version": 3
   },
   "file_extension": ".py",
   "mimetype": "text/x-python",
   "name": "python",
   "nbconvert_exporter": "python",
   "pygments_lexer": "ipython3",
   "version": "3.6.5"
  }
 },
 "nbformat": 4,
 "nbformat_minor": 2
}
