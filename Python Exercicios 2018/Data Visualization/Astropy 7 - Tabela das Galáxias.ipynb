{
 "cells": [
  {
   "cell_type": "code",
   "execution_count": 1,
   "metadata": {},
   "outputs": [],
   "source": [
    "import pandas as pd\n",
    "from astropy.table import QTable\n",
    "from matplotlib import pyplot as plt"
   ]
  },
  {
   "cell_type": "code",
   "execution_count": 2,
   "metadata": {},
   "outputs": [],
   "source": [
    "NGCdata = [\n",
    "(1.45, 216.00, 10.00, 0.00, 240.90, 0.00, 1579.45, 0.00),\n",
    "(2.88, 215.00, 7.00, 0.00, 232.56, 0.00, 725.11, 0.00),\n",
    "(4.33, 215.00, 5.00, 0.00, 235.54, 0.00, 586.66, 0.00),\n",
    "(5.78, 214.00, 4.00, 0.00, 243.76, 0.00, 431.16, 0.00),\n",
    "(7.22, 215.00, 4.00, 0.00, 245.32, 0.00, 356.04, 0.00),\n",
    "(8.66, 221.00, 3.00, 0.00, 253.00, 0.00, 328.20, 0.00),\n",
    "(11.55, 233.00, 3.00, 11.24, 281.58, 0.00, 253.05, 0.00),\n",
    "(14.48, 237.00, 3.00, 27.45, 299.81, 0.00, 153.39, 0.00),\n",
    "(17.28, 242.00, 3.00, 40.74, 295.15, 0.00, 98.50, 0.00),\n",
    "(20.20, 241.00, 3.00, 51.22, 293.48, 0.00, 65.35, 0.00),\n",
    "(23.12, 240.00, 3.00, 57.81, 284.89, 0.00, 32.44, 0.00),\n",
    "(26.04, 234.00, 3.00, 56.95, 267.33, 0.00, 13.89, 0.00),\n",
    "(28.84, 226.00, 3.00, 55.22, 249.73, 0.00, 7.22, 0.00),\n",
    "(31.76, 213.00, 3.00, 52.84, 235.27, 0.00, 4.16, 0.00),\n",
    "(34.68, 207.00, 3.00, 50.68, 223.76, 0.00, 1.44, 0.00),\n",
    "(37.48, 208.00, 4.00, 48.19, 210.28, 0.00, 0.00, 0.00),\n",
    "(40.40, 209.00, 4.00, 45.17, 200.01, 0.00, 0.00, 0.00),\n",
    "(43.32, 207.00, 4.00, 42.57, 191.48, 0.00, 0.00, 0.00),\n",
    "(46.24, 213.00, 6.00, 40.95, 184.17, 0.00, 0.00, 0.00)]\n"
   ]
  },
  {
   "cell_type": "code",
   "execution_count": 16,
   "metadata": {},
   "outputs": [],
   "source": [
    "NGCtabela = QTable(rows=NGCdata, names=('Raio', 'Vstars', 'Erro', 'Vgas', 'e', 'f', 'g', 'h'))\n"
   ]
  },
  {
   "cell_type": "code",
   "execution_count": 17,
   "metadata": {
    "scrolled": true
   },
   "outputs": [
    {
     "name": "stdout",
     "output_type": "stream",
     "text": [
      " Raio Vstars Erro  Vgas   e     f     g     h \n",
      "----- ------ ---- ----- ------ --- ------- ---\n",
      " 1.45  216.0 10.0   0.0  240.9 0.0 1579.45 0.0\n",
      " 2.88  215.0  7.0   0.0 232.56 0.0  725.11 0.0\n",
      " 4.33  215.0  5.0   0.0 235.54 0.0  586.66 0.0\n",
      " 5.78  214.0  4.0   0.0 243.76 0.0  431.16 0.0\n",
      " 7.22  215.0  4.0   0.0 245.32 0.0  356.04 0.0\n",
      " 8.66  221.0  3.0   0.0  253.0 0.0   328.2 0.0\n",
      "11.55  233.0  3.0 11.24 281.58 0.0  253.05 0.0\n",
      "14.48  237.0  3.0 27.45 299.81 0.0  153.39 0.0\n",
      "17.28  242.0  3.0 40.74 295.15 0.0    98.5 0.0\n",
      " 20.2  241.0  3.0 51.22 293.48 0.0   65.35 0.0\n",
      "23.12  240.0  3.0 57.81 284.89 0.0   32.44 0.0\n",
      "26.04  234.0  3.0 56.95 267.33 0.0   13.89 0.0\n",
      "28.84  226.0  3.0 55.22 249.73 0.0    7.22 0.0\n",
      "31.76  213.0  3.0 52.84 235.27 0.0    4.16 0.0\n",
      "34.68  207.0  3.0 50.68 223.76 0.0    1.44 0.0\n",
      "37.48  208.0  4.0 48.19 210.28 0.0     0.0 0.0\n",
      " 40.4  209.0  4.0 45.17 200.01 0.0     0.0 0.0\n",
      "43.32  207.0  4.0 42.57 191.48 0.0     0.0 0.0\n",
      "46.24  213.0  6.0 40.95 184.17 0.0     0.0 0.0\n"
     ]
    }
   ],
   "source": [
    "print(NGCtabela)"
   ]
  },
  {
   "cell_type": "code",
   "execution_count": 36,
   "metadata": {},
   "outputs": [
    {
     "data": {
      "text/plain": [
       "[0, 50, 10, 250]"
      ]
     },
     "execution_count": 36,
     "metadata": {},
     "output_type": "execute_result"
    },
    {
     "data": {
      "image/png": "[encoded data removed]",
      "text/plain": [
       "<Figure size 432x288 with 1 Axes>"
      ]
     },
     "metadata": {},
     "output_type": "display_data"
    }
   ],
   "source": [
    "G =plt.plot(NGCtabela['Raio'], NGCtabela['Vstars'], 'bo', linewidth=4.0)\n",
    "plt.axis([0, 50, 10, 250])"
   ]
  },
  {
   "cell_type": "code",
   "execution_count": 40,
   "metadata": {},
   "outputs": [
    {
     "ename": "NameError",
     "evalue": "name 'errorbar' is not defined",
     "output_type": "error",
     "traceback": [
      "\u001b[1;31m---------------------------------------------------------------------------\u001b[0m",
      "\u001b[1;31mNameError\u001b[0m                                 Traceback (most recent call last)",
      "\u001b[1;32m<ipython-input-40-1c6d6b001dea>\u001b[0m in \u001b[0;36m<module>\u001b[1;34m()\u001b[0m\n\u001b[1;32m----> 1\u001b[1;33m \u001b[0merrorbar\u001b[0m\u001b[1;33m\u001b[0m\u001b[0m\n\u001b[0m",
      "\u001b[1;31mNameError\u001b[0m: name 'errorbar' is not defined"
     ]
    }
   ],
   "source": []
  },
  {
   "cell_type": "code",
   "execution_count": null,
   "metadata": {},
   "outputs": [],
   "source": []
  }
 ],
 "metadata": {
  "kernelspec": {
   "display_name": "Python 3",
   "language": "python",
   "name": "python3"
  },
  "language_info": {
   "codemirror_mode": {
    "name": "ipython",
    "version": 3
   },
   "file_extension": ".py",
   "mimetype": "text/x-python",
   "name": "python",
   "nbconvert_exporter": "python",
   "pygments_lexer": "ipython3",
   "version": "3.6.5"
  }
 },
 "nbformat": 4,
 "nbformat_minor": 2
}
