{
 "cells": [
  {
   "cell_type": "code",
   "execution_count": 1,
   "metadata": {},
   "outputs": [],
   "source": [
    "import pandas as pd\n",
    "from astropy.table import QTable\n",
    "from matplotlib import pyplot as plt"
   ]
  },
  {
   "cell_type": "code",
   "execution_count": 2,
   "metadata": {},
   "outputs": [],
   "source": [
    "from astropy.io import ascii"
   ]
  },
  {
   "cell_type": "code",
   "execution_count": 9,
   "metadata": {},
   "outputs": [
    {
     "name": "stdout",
     "output_type": "stream",
     "text": [
      "Downloading file:///C:/Users/Leona/Desktop/UGC07603_rotmod.dat [Done]\n"
     ]
    }
   ],
   "source": [
    "data = ascii.read('file:///C:/Users/Leona/Desktop/UGC07603_rotmod.dat')"
   ]
  },
  {
   "cell_type": "code",
   "execution_count": 10,
   "metadata": {},
   "outputs": [
    {
     "data": {
      "text/html": [
       "<i>Table length=12</i>\n",
       "<table id=\"table2129398638856\" class=\"table-striped table-bordered table-condensed\">\n",
       "<thead><tr><th>col1</th><th>col2</th><th>col3</th><th>col4</th><th>col5</th><th>col6</th><th>col7</th><th>col8</th></tr></thead>\n",
       "<thead><tr><th>float64</th><th>float64</th><th>float64</th><th>float64</th><th>float64</th><th>float64</th><th>float64</th><th>float64</th></tr></thead>\n",
       "<tr><td>0.34</td><td>19.6</td><td>2.89</td><td>4.29</td><td>19.73</td><td>0.0</td><td>106.8</td><td>0.0</td></tr>\n",
       "<tr><td>0.68</td><td>32.5</td><td>2.89</td><td>6.17</td><td>28.0</td><td>0.0</td><td>66.32</td><td>0.0</td></tr>\n",
       "<tr><td>1.02</td><td>41.9</td><td>2.89</td><td>5.94</td><td>31.57</td><td>0.0</td><td>28.35</td><td>0.0</td></tr>\n",
       "<tr><td>1.37</td><td>50.6</td><td>2.89</td><td>8.81</td><td>31.98</td><td>0.0</td><td>17.64</td><td>0.0</td></tr>\n",
       "<tr><td>1.71</td><td>57.0</td><td>2.89</td><td>15.21</td><td>31.44</td><td>0.0</td><td>8.3</td><td>0.0</td></tr>\n",
       "<tr><td>2.05</td><td>60.5</td><td>2.89</td><td>17.87</td><td>29.65</td><td>0.0</td><td>4.37</td><td>0.0</td></tr>\n",
       "<tr><td>2.39</td><td>60.5</td><td>2.89</td><td>17.46</td><td>27.89</td><td>0.0</td><td>2.3</td><td>0.0</td></tr>\n",
       "<tr><td>2.74</td><td>60.0</td><td>2.89</td><td>15.96</td><td>26.14</td><td>0.0</td><td>1.18</td><td>0.0</td></tr>\n",
       "<tr><td>3.08</td><td>61.5</td><td>2.89</td><td>15.55</td><td>24.58</td><td>0.0</td><td>0.62</td><td>0.0</td></tr>\n",
       "<tr><td>3.42</td><td>61.5</td><td>2.89</td><td>16.29</td><td>23.19</td><td>0.0</td><td>0.33</td><td>0.0</td></tr>\n",
       "<tr><td>3.76</td><td>63.0</td><td>2.89</td><td>16.96</td><td>21.99</td><td>0.0</td><td>0.17</td><td>0.0</td></tr>\n",
       "<tr><td>4.11</td><td>64.0</td><td>2.89</td><td>17.21</td><td>20.84</td><td>0.0</td><td>0.0</td><td>0.0</td></tr>\n",
       "</table>"
      ],
      "text/plain": [
       "<Table length=12>\n",
       "  col1    col2    col3    col4    col5    col6    col7    col8 \n",
       "float64 float64 float64 float64 float64 float64 float64 float64\n",
       "------- ------- ------- ------- ------- ------- ------- -------\n",
       "   0.34    19.6    2.89    4.29   19.73     0.0   106.8     0.0\n",
       "   0.68    32.5    2.89    6.17    28.0     0.0   66.32     0.0\n",
       "   1.02    41.9    2.89    5.94   31.57     0.0   28.35     0.0\n",
       "   1.37    50.6    2.89    8.81   31.98     0.0   17.64     0.0\n",
       "   1.71    57.0    2.89   15.21   31.44     0.0     8.3     0.0\n",
       "   2.05    60.5    2.89   17.87   29.65     0.0    4.37     0.0\n",
       "   2.39    60.5    2.89   17.46   27.89     0.0     2.3     0.0\n",
       "   2.74    60.0    2.89   15.96   26.14     0.0    1.18     0.0\n",
       "   3.08    61.5    2.89   15.55   24.58     0.0    0.62     0.0\n",
       "   3.42    61.5    2.89   16.29   23.19     0.0    0.33     0.0\n",
       "   3.76    63.0    2.89   16.96   21.99     0.0    0.17     0.0\n",
       "   4.11    64.0    2.89   17.21   20.84     0.0     0.0     0.0"
      ]
     },
     "execution_count": 10,
     "metadata": {},
     "output_type": "execute_result"
    }
   ],
   "source": [
    "data"
   ]
  },
  {
   "cell_type": "code",
   "execution_count": 2,
   "metadata": {},
   "outputs": [
    {
     "ename": "NameError",
     "evalue": "name 'data' is not defined",
     "output_type": "error",
     "traceback": [
      "\u001b[1;31m---------------------------------------------------------------------------\u001b[0m",
      "\u001b[1;31mNameError\u001b[0m                                 Traceback (most recent call last)",
      "\u001b[1;32m<ipython-input-2-fa355f4c8b63>\u001b[0m in \u001b[0;36m<module>\u001b[1;34m()\u001b[0m\n\u001b[1;32m----> 1\u001b[1;33m \u001b[0mRaio\u001b[0m \u001b[1;33m=\u001b[0m \u001b[0mdata\u001b[0m\u001b[1;33m[\u001b[0m\u001b[1;34m'col1'\u001b[0m\u001b[1;33m]\u001b[0m\u001b[1;33m\u001b[0m\u001b[0m\n\u001b[0m\u001b[0;32m      2\u001b[0m \u001b[0mVstars\u001b[0m \u001b[1;33m=\u001b[0m \u001b[0mdata\u001b[0m\u001b[1;33m[\u001b[0m\u001b[1;34m'col2'\u001b[0m\u001b[1;33m]\u001b[0m\u001b[1;33m\u001b[0m\u001b[0m\n\u001b[0;32m      3\u001b[0m \u001b[0merro\u001b[0m \u001b[1;33m=\u001b[0m \u001b[0mdata\u001b[0m\u001b[1;33m[\u001b[0m\u001b[1;34m'col3'\u001b[0m\u001b[1;33m]\u001b[0m\u001b[1;33m\u001b[0m\u001b[0m\n",
      "\u001b[1;31mNameError\u001b[0m: name 'data' is not defined"
     ]
    }
   ],
   "source": [
    "Raio = data['col1']\n",
    "Vstars = data['col2']\n",
    "erro = data['col3']"
   ]
  },
  {
   "cell_type": "code",
   "execution_count": 39,
   "metadata": {},
   "outputs": [],
   "source": []
  },
  {
   "cell_type": "code",
   "execution_count": 37,
   "metadata": {},
   "outputs": [
    {
     "data": {
      "text/html": [
       "<i>QTable length=1</i>\n",
       "<table id=\"table2129401286160\" class=\"table-striped table-bordered table-condensed\">\n",
       "<thead><tr><th>col0</th><th>col1</th><th>col2</th><th>col3</th><th>col4</th><th>col5</th><th>col6</th><th>col7</th><th>col8</th><th>col9</th><th>col10</th><th>col11</th></tr></thead>\n",
       "<thead><tr><th>float64</th><th>float64</th><th>float64</th><th>float64</th><th>float64</th><th>float64</th><th>float64</th><th>float64</th><th>float64</th><th>float64</th><th>float64</th><th>float64</th></tr></thead>\n",
       "<tr><td>0.34</td><td>0.68</td><td>1.02</td><td>1.37</td><td>1.71</td><td>2.05</td><td>2.39</td><td>2.74</td><td>3.08</td><td>3.42</td><td>3.76</td><td>4.11</td></tr>\n",
       "</table>"
      ],
      "text/plain": [
       "<QTable length=1>\n",
       "  col0    col1    col2    col3    col4  ...   col8    col9   col10   col11 \n",
       "float64 float64 float64 float64 float64 ... float64 float64 float64 float64\n",
       "------- ------- ------- ------- ------- ... ------- ------- ------- -------\n",
       "   0.34    0.68    1.02    1.37    1.71 ...    3.08    3.42    3.76    4.11"
      ]
     },
     "execution_count": 37,
     "metadata": {},
     "output_type": "execute_result"
    }
   ],
   "source": []
  },
  {
   "cell_type": "code",
   "execution_count": null,
   "metadata": {},
   "outputs": [],
   "source": []
  },
  {
   "cell_type": "code",
   "execution_count": null,
   "metadata": {},
   "outputs": [],
   "source": []
  }
 ],
 "metadata": {
  "kernelspec": {
   "display_name": "Python 3",
   "language": "python",
   "name": "python3"
  },
  "language_info": {
   "codemirror_mode": {
    "name": "ipython",
    "version": 3
   },
   "file_extension": ".py",
   "mimetype": "text/x-python",
   "name": "python",
   "nbconvert_exporter": "python",
   "pygments_lexer": "ipython3",
   "version": "3.6.5"
  }
 },
 "nbformat": 4,
 "nbformat_minor": 2
}
