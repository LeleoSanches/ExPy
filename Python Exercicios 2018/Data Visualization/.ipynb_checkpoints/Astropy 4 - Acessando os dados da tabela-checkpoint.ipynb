{
 "cells": [
  {
   "cell_type": "code",
   "execution_count": 1,
   "metadata": {},
   "outputs": [],
   "source": [
    "from astropy.table import Table"
   ]
  },
  {
   "cell_type": "code",
   "execution_count": 2,
   "metadata": {},
   "outputs": [],
   "source": [
    "data_rows = [(1, 2.0, 'x'), (4, 5.0, 'y'), (5, 8.2, 'z')]"
   ]
  },
  {
   "cell_type": "code",
   "execution_count": 3,
   "metadata": {},
   "outputs": [],
   "source": [
    "t = Table(rows=data_rows, names=('a', 'b', 'c'), meta={'name':'primeira tabela'})"
   ]
  },
  {
   "cell_type": "code",
   "execution_count": 5,
   "metadata": {},
   "outputs": [],
   "source": [
    "t['a'].unit = 'Metros'\n",
    "t['b'].unit = 'Grama'\n",
    "t['c'].unit = 'Variavel'"
   ]
  },
  {
   "cell_type": "code",
   "execution_count": 11,
   "metadata": {},
   "outputs": [],
   "source": [
    "t['b'].format = '53f'"
   ]
  },
  {
   "cell_type": "code",
   "execution_count": 12,
   "metadata": {},
   "outputs": [
    {
     "data": {
      "text/html": [
       "<i>Table length=3</i>\n",
       "<table id=\"table2714703412752\" class=\"table-striped table-bordered table-condensed\">\n",
       "<thead><tr><th>a</th><th>b</th><th>c</th></tr></thead>\n",
       "<thead><tr><th>Metros</th><th>Grama</th><th>Variavel</th></tr></thead>\n",
       "<thead><tr><th>int32</th><th>float64</th><th>str1</th></tr></thead>\n",
       "<tr><td>1</td><td>2.000000</td><td>x</td></tr>\n",
       "<tr><td>4</td><td>5.000000</td><td>y</td></tr>\n",
       "<tr><td>5</td><td>8.200000</td><td>z</td></tr>\n",
       "</table>"
      ],
      "text/plain": [
       "<Table length=3>\n",
       "  a                              b                              c    \n",
       "Metros                         Grama                         Variavel\n",
       "int32                         float64                          str1  \n",
       "------ ----------------------------------------------------- --------\n",
       "     1                                              2.000000        x\n",
       "     4                                              5.000000        y\n",
       "     5                                              8.200000        z"
      ]
     },
     "execution_count": 12,
     "metadata": {},
     "output_type": "execute_result"
    }
   ],
   "source": [
    "t"
   ]
  },
  {
   "cell_type": "code",
   "execution_count": 14,
   "metadata": {},
   "outputs": [
    {
     "data": {
      "text/plain": [
       "3"
      ]
     },
     "execution_count": 14,
     "metadata": {},
     "output_type": "execute_result"
    }
   ],
   "source": [
    "len(t)"
   ]
  },
  {
   "cell_type": "code",
   "execution_count": 15,
   "metadata": {},
   "outputs": [
    {
     "data": {
      "text/html": [
       "&lt;Column name=&apos;a&apos; dtype=&apos;int32&apos; unit=&apos;Metros&apos; length=3&gt;\n",
       "<table>\n",
       "<tr><td>1</td></tr>\n",
       "<tr><td>4</td></tr>\n",
       "<tr><td>5</td></tr>\n",
       "</table>"
      ],
      "text/plain": [
       "<Column name='a' dtype='int32' unit='Metros' length=3>\n",
       "1\n",
       "4\n",
       "5"
      ]
     },
     "execution_count": 15,
     "metadata": {},
     "output_type": "execute_result"
    }
   ],
   "source": [
    "t['a']"
   ]
  },
  {
   "cell_type": "code",
   "execution_count": 16,
   "metadata": {},
   "outputs": [
    {
     "data": {
      "text/html": [
       "&lt;Column name=&apos;a&apos; dtype=&apos;int32&apos; unit=&apos;Metros&apos; length=3&gt;\n",
       "<table>\n",
       "<tr><td>1</td></tr>\n",
       "<tr><td>4</td></tr>\n",
       "<tr><td>5</td></tr>\n",
       "</table>"
      ],
      "text/plain": [
       "<Column name='a' dtype='int32' unit='Metros' length=3>\n",
       "1\n",
       "4\n",
       "5"
      ]
     },
     "execution_count": 16,
     "metadata": {},
     "output_type": "execute_result"
    }
   ],
   "source": [
    "t['a']\n"
   ]
  },
  {
   "cell_type": "code",
   "execution_count": 17,
   "metadata": {},
   "outputs": [
    {
     "data": {
      "text/plain": [
       "4"
      ]
     },
     "execution_count": 17,
     "metadata": {},
     "output_type": "execute_result"
    }
   ],
   "source": [
    "t['a'][1]"
   ]
  },
  {
   "cell_type": "code",
   "execution_count": 18,
   "metadata": {},
   "outputs": [
    {
     "data": {
      "text/html": [
       "<i>Row index=1</i>\n",
       "<table id=\"table2714703412752\">\n",
       "<thead><tr><th>a</th><th>b</th><th>c</th></tr></thead>\n",
       "<thead><tr><th>Metros</th><th>Grama</th><th>Variavel</th></tr></thead>\n",
       "<thead><tr><th>int32</th><th>float64</th><th>str1</th></tr></thead>\n",
       "<tr><td>4</td><td>5.000000</td><td>y</td></tr>\n",
       "</table>"
      ],
      "text/plain": [
       "<Row index=1>\n",
       "  a                              b                              c    \n",
       "Metros                         Grama                         Variavel\n",
       "int32                         float64                          str1  \n",
       "------ ----------------------------------------------------- --------\n",
       "     4                                              5.000000        y"
      ]
     },
     "execution_count": 18,
     "metadata": {},
     "output_type": "execute_result"
    }
   ],
   "source": [
    "t[1]"
   ]
  },
  {
   "cell_type": "code",
   "execution_count": 19,
   "metadata": {},
   "outputs": [
    {
     "name": "stdout",
     "output_type": "stream",
     "text": [
      "  a                              b                              c    \n",
      "Metros                         Grama                         Variavel\n",
      "------ ----------------------------------------------------- --------\n",
      "     1                                              2.000000        x\n",
      "     4                                              5.000000        y\n"
     ]
    }
   ],
   "source": [
    "print(t[0:2])"
   ]
  },
  {
   "cell_type": "code",
   "execution_count": 20,
   "metadata": {},
   "outputs": [
    {
     "name": "stdout",
     "output_type": "stream",
     "text": [
      "  a       c    \n",
      "Metros Variavel\n",
      "------ --------\n",
      "     1        x\n",
      "     4        y\n",
      "     5        z\n"
     ]
    }
   ],
   "source": [
    "print(t['a', 'c'])"
   ]
  },
  {
   "cell_type": "code",
   "execution_count": null,
   "metadata": {},
   "outputs": [],
   "source": []
  }
 ],
 "metadata": {
  "kernelspec": {
   "display_name": "Python 3",
   "language": "python",
   "name": "python3"
  },
  "language_info": {
   "codemirror_mode": {
    "name": "ipython",
    "version": 3
   },
   "file_extension": ".py",
   "mimetype": "text/x-python",
   "name": "python",
   "nbconvert_exporter": "python",
   "pygments_lexer": "ipython3",
   "version": "3.6.5"
  }
 },
 "nbformat": 4,
 "nbformat_minor": 2
}
