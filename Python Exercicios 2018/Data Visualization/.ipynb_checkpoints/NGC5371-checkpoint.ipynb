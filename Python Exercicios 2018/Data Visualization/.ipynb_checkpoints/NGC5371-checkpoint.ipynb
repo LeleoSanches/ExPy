{
 "cells": [
  {
   "cell_type": "code",
   "execution_count": 1,
   "metadata": {},
   "outputs": [],
   "source": [
    "import pandas as pd\n",
    "from astropy.table import QTable\n",
    "from matplotlib import pyplot as plt\n",
    "from astropy.io import ascii\n",
    "import astropy.units as u\n",
    "import numpy as np\n",
    "from scipy.interpolate import interp1d, InterpolatedUnivariateSpline"
   ]
  },
  {
   "cell_type": "code",
   "execution_count": 2,
   "metadata": {},
   "outputs": [],
   "source": [
    "data = ascii.read(\"C:/Users/Leona/Desktop/Física/Masters/Python Exercicios/Data Visualization/NGC5371_rotmod.dat\")"
   ]
  },
  {
   "cell_type": "code",
   "execution_count": 3,
   "metadata": {
    "scrolled": true
   },
   "outputs": [
    {
     "name": "stdout",
     "output_type": "stream",
     "text": [
      " Raio Vstar  Erro  Vgas\n",
      " kpc  m / s m / s m / s\n",
      "----- ----- ----- -----\n",
      " 1.45 216.0  10.0   0.0\n",
      " 2.88 215.0   7.0   0.0\n",
      " 4.33 215.0   5.0   0.0\n",
      " 5.78 214.0   4.0   0.0\n",
      " 7.22 215.0   4.0   0.0\n",
      " 8.66 221.0   3.0   0.0\n",
      "11.55 233.0   3.0 11.24\n",
      "14.48 237.0   3.0 27.45\n",
      "17.28 242.0   3.0 40.74\n",
      " 20.2 241.0   3.0 51.22\n",
      "23.12 240.0   3.0 57.81\n",
      "26.04 234.0   3.0 56.95\n",
      "28.84 226.0   3.0 55.22\n",
      "31.76 213.0   3.0 52.84\n",
      "34.68 207.0   3.0 50.68\n",
      "37.48 208.0   4.0 48.19\n",
      " 40.4 209.0   4.0 45.17\n",
      "43.32 207.0   4.0 42.57\n",
      "46.24 213.0   6.0 40.95\n"
     ]
    }
   ],
   "source": [
    "Raio = data['col1'] * u.kpc\n",
    "Vstar = data['col2']* u.m / u.s\n",
    "Err = data['col3']* u.m / u.s\n",
    "Vgas = data['col4']* u.m / u.s\n",
    "Tabela = QTable([Raio,Vstar, Err, Vgas], names=(\"Raio\", \"Vstar\", \"Erro\", \"Vgas\"))\n",
    "print(Tabela)"
   ]
  },
  {
   "cell_type": "code",
   "execution_count": 114,
   "metadata": {
    "scrolled": true
   },
   "outputs": [
    {
     "data": {
      "image/png": "[encoded data removed]",
      "text/plain": [
       "<Figure size 432x288 with 1 Axes>"
      ]
     },
     "metadata": {},
     "output_type": "display_data"
    }
   ],
   "source": [
    "plt.plot( data['col1'], data['col2'], 'ko')\n",
    "plt.title(\"NGC5371\")\n",
    "plt.xlabel(\"Raio\")\n",
    "plt.ylabel(\"Velocidade\")\n",
    "plt.axis([0, 47, 0, 250])\n",
    "plt.errorbar( data['col1'], data['col2'],yerr=data['col3'], fmt='ko', capsize=4, elinewidth=2)\n",
    "plt.plot( data['col1'], data['col4'],'r--')\n",
    "plt.plot(data['col1'],(Vs(data['col1'], 22, 2, 4)**.5)*50, '--')\n",
    "plt.show()"
   ]
  },
  {
   "cell_type": "code",
   "execution_count": 5,
   "metadata": {},
   "outputs": [
    {
     "data": {
      "text/plain": [
       "array([ 0.10151603,  0.10151603,  0.10151603,  0.10151603,  0.10151603,\n",
       "        0.10151603,  9.56546851, 56.06668539, 44.8312158 , 41.71566612,\n",
       "       52.85727789, 50.59152823, 46.82516417, 43.2268019 , 41.36505562,\n",
       "       40.63419587, 41.40175356, 43.16206463, 44.62589753])"
      ]
     },
     "execution_count": 5,
     "metadata": {},
     "output_type": "execute_result"
    },
    {
     "data": {
      "image/png": "[encoded data removed]",
      "text/plain": [
       "<Figure size 432x288 with 1 Axes>"
      ]
     },
     "metadata": {},
     "output_type": "display_data"
    }
   ],
   "source": [
    "#Interpolação do Gas\n",
    "Intgas= InterpolatedUnivariateSpline(data['col1'], data['col4'])\n",
    "plt.plot(data['col1'], Intgas(data['col1']), '--', data['col1'], data['col4'], 'ko')\n",
    "Intgas(data['col4'])"
   ]
  },
  {
   "cell_type": "code",
   "execution_count": 122,
   "metadata": {},
   "outputs": [],
   "source": [
    "from sympy import *\n",
    "from sympy import besseli, besselk\n",
    "from sympy import var\n",
    "init_printing()\n",
    "from scipy.special import k0, k1, i0, i1\n",
    "\n",
    "def  Vs(r, M, Rd, G):\n",
    "    return G*M*((r**2)//(2*(Rd**3)))*(i0(r/(2*Rd))*k0(r/(2*Rd)) - i1(r/(2*Rd))*k1(r/(2*Rd)))\n"
   ]
  },
  {
   "cell_type": "code",
   "execution_count": 136,
   "metadata": {},
   "outputs": [],
   "source": [
    "from sympy import pi, log, tan, atan\n",
    "p, r0 = var('p, r0')\n",
    "def Vme(r, p, r0, G):\n",
    "    return 6.4*G*((p*(r0**3))//r)* ((log(1+(r/r0))) - atan(r/r0) + log(1+(r/r0)**2)//2)"
   ]
  },
  {
   "cell_type": "code",
   "execution_count": 179,
   "metadata": {},
   "outputs": [
    {
     "ename": "TypeError",
     "evalue": "ufunc 'i0' not supported for the input types, and the inputs could not be safely coerced to any supported types according to the casting rule ''safe''",
     "output_type": "error",
     "traceback": [
      "\u001b[1;31m---------------------------------------------------------------------------\u001b[0m",
      "\u001b[1;31mTypeError\u001b[0m                                 Traceback (most recent call last)",
      "\u001b[1;32m<ipython-input-179-7d7e33aeaee8>\u001b[0m in \u001b[0;36m<module>\u001b[1;34m()\u001b[0m\n\u001b[0;32m      3\u001b[0m \u001b[1;33m\u001b[0m\u001b[0m\n\u001b[0;32m      4\u001b[0m \u001b[1;32mfrom\u001b[0m \u001b[0mscipy\u001b[0m\u001b[1;33m.\u001b[0m\u001b[0moptimize\u001b[0m \u001b[1;32mimport\u001b[0m \u001b[0mminimize\u001b[0m\u001b[1;33m\u001b[0m\u001b[0m\n\u001b[1;32m----> 5\u001b[1;33m \u001b[0mminimize\u001b[0m\u001b[1;33m(\u001b[0m\u001b[0mVs\u001b[0m\u001b[1;33m(\u001b[0m\u001b[0mr\u001b[0m\u001b[1;33m,\u001b[0m \u001b[0mM\u001b[0m\u001b[1;33m,\u001b[0m \u001b[0mp\u001b[0m\u001b[1;33m,\u001b[0m \u001b[0mr0\u001b[0m\u001b[1;33m)\u001b[0m\u001b[1;33m,\u001b[0m \u001b[0mdata\u001b[0m\u001b[1;33m[\u001b[0m\u001b[1;34m'col2'\u001b[0m\u001b[1;33m]\u001b[0m\u001b[1;33m,\u001b[0m \u001b[0margs\u001b[0m\u001b[1;33m=\u001b[0m\u001b[1;33m(\u001b[0m\u001b[0mdata\u001b[0m\u001b[1;33m[\u001b[0m\u001b[1;34m'col1'\u001b[0m\u001b[1;33m]\u001b[0m\u001b[1;33m,\u001b[0m \u001b[1;36m22\u001b[0m\u001b[1;33m,\u001b[0m \u001b[1;36m2\u001b[0m\u001b[1;33m,\u001b[0m \u001b[1;36m10\u001b[0m\u001b[1;33m,\u001b[0m\u001b[1;33m)\u001b[0m\u001b[1;33m)\u001b[0m\u001b[1;33m\u001b[0m\u001b[0m\n\u001b[0m",
      "\u001b[1;32m<ipython-input-122-77ed368d828b>\u001b[0m in \u001b[0;36mVs\u001b[1;34m(r, M, Rd, G)\u001b[0m\n\u001b[0;32m      6\u001b[0m \u001b[1;33m\u001b[0m\u001b[0m\n\u001b[0;32m      7\u001b[0m \u001b[1;32mdef\u001b[0m  \u001b[0mVs\u001b[0m\u001b[1;33m(\u001b[0m\u001b[0mr\u001b[0m\u001b[1;33m,\u001b[0m \u001b[0mM\u001b[0m\u001b[1;33m,\u001b[0m \u001b[0mRd\u001b[0m\u001b[1;33m,\u001b[0m \u001b[0mG\u001b[0m\u001b[1;33m)\u001b[0m\u001b[1;33m:\u001b[0m\u001b[1;33m\u001b[0m\u001b[0m\n\u001b[1;32m----> 8\u001b[1;33m     \u001b[1;32mreturn\u001b[0m \u001b[0mG\u001b[0m\u001b[1;33m*\u001b[0m\u001b[0mM\u001b[0m\u001b[1;33m*\u001b[0m\u001b[1;33m(\u001b[0m\u001b[1;33m(\u001b[0m\u001b[0mr\u001b[0m\u001b[1;33m**\u001b[0m\u001b[1;36m2\u001b[0m\u001b[1;33m)\u001b[0m\u001b[1;33m//\u001b[0m\u001b[1;33m(\u001b[0m\u001b[1;36m2\u001b[0m\u001b[1;33m*\u001b[0m\u001b[1;33m(\u001b[0m\u001b[0mRd\u001b[0m\u001b[1;33m**\u001b[0m\u001b[1;36m3\u001b[0m\u001b[1;33m)\u001b[0m\u001b[1;33m)\u001b[0m\u001b[1;33m)\u001b[0m\u001b[1;33m*\u001b[0m\u001b[1;33m(\u001b[0m\u001b[0mi0\u001b[0m\u001b[1;33m(\u001b[0m\u001b[0mr\u001b[0m\u001b[1;33m/\u001b[0m\u001b[1;33m(\u001b[0m\u001b[1;36m2\u001b[0m\u001b[1;33m*\u001b[0m\u001b[0mRd\u001b[0m\u001b[1;33m)\u001b[0m\u001b[1;33m)\u001b[0m\u001b[1;33m*\u001b[0m\u001b[0mk0\u001b[0m\u001b[1;33m(\u001b[0m\u001b[0mr\u001b[0m\u001b[1;33m/\u001b[0m\u001b[1;33m(\u001b[0m\u001b[1;36m2\u001b[0m\u001b[1;33m*\u001b[0m\u001b[0mRd\u001b[0m\u001b[1;33m)\u001b[0m\u001b[1;33m)\u001b[0m \u001b[1;33m-\u001b[0m \u001b[0mi1\u001b[0m\u001b[1;33m(\u001b[0m\u001b[0mr\u001b[0m\u001b[1;33m/\u001b[0m\u001b[1;33m(\u001b[0m\u001b[1;36m2\u001b[0m\u001b[1;33m*\u001b[0m\u001b[0mRd\u001b[0m\u001b[1;33m)\u001b[0m\u001b[1;33m)\u001b[0m\u001b[1;33m*\u001b[0m\u001b[0mk1\u001b[0m\u001b[1;33m(\u001b[0m\u001b[0mr\u001b[0m\u001b[1;33m/\u001b[0m\u001b[1;33m(\u001b[0m\u001b[1;36m2\u001b[0m\u001b[1;33m*\u001b[0m\u001b[0mRd\u001b[0m\u001b[1;33m)\u001b[0m\u001b[1;33m)\u001b[0m\u001b[1;33m)\u001b[0m\u001b[1;33m\u001b[0m\u001b[0m\n\u001b[0m",
      "\u001b[1;31mTypeError\u001b[0m: ufunc 'i0' not supported for the input types, and the inputs could not be safely coerced to any supported types according to the casting rule ''safe''"
     ]
    }
   ],
   "source": [
    "def Vt(r, M, Rd, G, p, r0):\n",
    "    return Intgas(data['col4'])**2 + Vs(r, M, Rd, G) + Vme(r, p, r0, G)\n",
    "\n",
    "from scipy.optimize import minimize\n",
    "minimize(Vs(r, M, p, r0), data['col2'], args=(data['col1'], 22, 2, 10,))"
   ]
  },
  {
   "cell_type": "code",
   "execution_count": 174,
   "metadata": {},
   "outputs": [
    {
     "ename": "SyntaxError",
     "evalue": "invalid syntax (<ipython-input-174-413af35105b3>, line 1)",
     "output_type": "error",
     "traceback": [
      "\u001b[1;36m  File \u001b[1;32m\"<ipython-input-174-413af35105b3>\"\u001b[1;36m, line \u001b[1;32m1\u001b[0m\n\u001b[1;33m    Vt(10, 22, 2,(G= 4), 30, 1)\u001b[0m\n\u001b[1;37m                   ^\u001b[0m\n\u001b[1;31mSyntaxError\u001b[0m\u001b[1;31m:\u001b[0m invalid syntax\n"
     ]
    }
   ],
   "source": [
    "Vt(10, 22, 2,(G= 4), 30, 1)"
   ]
  },
  {
   "cell_type": "code",
   "execution_count": 159,
   "metadata": {},
   "outputs": [
    {
     "data": {
      "image/png": "[encoded data removed]",
      "text/latex": [
       "$$r_{0}$$"
      ],
      "text/plain": [
       "r₀"
      ]
     },
     "execution_count": 159,
     "metadata": {},
     "output_type": "execute_result"
    }
   ],
   "source": [
    "r0"
   ]
  },
  {
   "cell_type": "code",
   "execution_count": 148,
   "metadata": {},
   "outputs": [
    {
     "data": {
      "image/png": "[encoded data removed]",
      "text/latex": [
       "$$M$$"
      ],
      "text/plain": [
       "M"
      ]
     },
     "execution_count": 148,
     "metadata": {},
     "output_type": "execute_result"
    }
   ],
   "source": [
    "M"
   ]
  },
  {
   "cell_type": "code",
   "execution_count": null,
   "metadata": {},
   "outputs": [],
   "source": []
  }
 ],
 "metadata": {
  "kernelspec": {
   "display_name": "Python 3",
   "language": "python",
   "name": "python3"
  },
  "language_info": {
   "codemirror_mode": {
    "name": "ipython",
    "version": 3
   },
   "file_extension": ".py",
   "mimetype": "text/x-python",
   "name": "python",
   "nbconvert_exporter": "python",
   "pygments_lexer": "ipython3",
   "version": "3.6.5"
  }
 },
 "nbformat": 4,
 "nbformat_minor": 2
}
