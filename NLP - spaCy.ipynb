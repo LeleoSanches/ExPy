{
 "cells": [
  {
   "cell_type": "markdown",
   "metadata": {},
   "source": [
    "# NLP - How to spaCy"
   ]
  },
  {
   "cell_type": "code",
   "execution_count": 79,
   "metadata": {},
   "outputs": [],
   "source": [
    "import spacy\n",
    "from spacy.lang.pt import Portuguese\n",
    "from spacy import displacy\n",
    "import seaborn as sns\n",
    "import pandas as pd\n",
    "import matplotlib.pyplot as plt\n",
    "from spacy.lang.pt.stop_words import STOP_WORDS\n",
    "from wordcloud import WordCloud"
   ]
  },
  {
   "cell_type": "markdown",
   "metadata": {},
   "source": [
    "# 1. Introdução\n",
    "## 1.1 Porque spaCy?\n",
    "\n",
    "* **spaCy** é uma biblioteca open-source para ~~Natural Language Processing~~ (NLP) em Python\n",
    "* Pode ser usado para **Extração de informações, processamento de linguagem e Deep Learn**\n",
    " \n",
    "## 1.2. Features\n",
    "\n",
    "1.  **Tokenization**: Seguimentação do texto\n",
    "2. **Part-of-speech tagging**: Caracteriza os tipos de palavras em tokens, como Verbos e nomes...\n",
    "3. **Dependency Parsing**: Caracteriza dependencias sintáticas e descreve as relações entre tokens, como sujeito e objeto.\n",
    "4. **Lemmatization**: Caracteriza a forma base das palavras. O *Lemma* de *Estava* é *está*, o *Lemma* de *ratos* é *rato*.\n",
    "5.  **Sentence Boundary Detection (SBD)**: Encontra e seguimenta sentenças individuais.\n",
    "6. **Named Entity Recognition (NER)**: Faz o rótulo de objetos do \"Mundo-Real\", como pessoas, companhias ou locais.\n",
    "7. **Entity Linking**: Tira a Ambiguidade de entidades textuais.\n",
    "8. **Similarity**: Compara palavras, texto e documentos e quão similar eles são.\n",
    "9. **Text Classification**: Caracteriza categorias ou rótulos para um documento.\n",
    "10. **Rule-based Matching**: Encontra sequências de tokens.\n",
    "11. **Training**: Atualiza e implementa um modelo estatísico\n",
    "12. **Serialization**: Salva o objeto em arquivos ou byte strings.\n",
    "\n",
    "## 1.3. Modelo\n",
    "\n",
    "* **pt_core_news_sm**: Portuguese multi-task CNN treinado em Universal Dependencies e WikiNER corpus.\n",
    "* (Small Model), nao compara Similaridade semantica"
   ]
  },
  {
   "cell_type": "markdown",
   "metadata": {},
   "source": [
    "## 2. Tokenization\n",
    "### 2.1 Sentence tokenization\n",
    "\n",
    "1. A tokenizacao de sentencas consiste em separar o texto. \n",
    "2. O algoritmo procura padroes para realizar essa separacao.\n",
    "3. Uma parcela do Documento Tokenizado é chamado de **Span**"
   ]
  },
  {
   "cell_type": "code",
   "execution_count": 2,
   "metadata": {},
   "outputs": [
    {
     "name": "stdout",
     "output_type": "stream",
     "text": [
      "Mundo!\n"
     ]
    }
   ],
   "source": [
    "nlp = spacy.load('pt_core_news_sm')\n",
    "doc = nlp('Oi Mundo!')\n",
    "span = doc[1:4]\n",
    "print(span.text)\n"
   ]
  },
  {
   "cell_type": "markdown",
   "metadata": {},
   "source": [
    "### 2.2. Atributos Lexical\n",
    "\n",
    "* Os Atributos a seguir sao chamados de Lexical, eles referem-se a uma entrada do vocabulario que nao depende do contexto do Token"
   ]
  },
  {
   "cell_type": "code",
   "execution_count": 3,
   "metadata": {},
   "outputs": [
    {
     "name": "stdout",
     "output_type": "stream",
     "text": [
      "Index:  [0, 1, 2, 3, 4]\n",
      "Text:  ['Custa', 'apenas', '$', '5', '.']\n",
      "is_alpha:  [True, True, False, False, False]\n",
      "is_punct:  [False, False, False, False, True]\n",
      "like_num:  [False, False, False, True, False]\n"
     ]
    }
   ],
   "source": [
    "doc = nlp('Custa apenas $5.')\n",
    "\n",
    "print('Index: ', [token.i for token in doc])\n",
    "print('Text: ', [token.text for token in doc])\n",
    "print('is_alpha: ', [token.is_alpha for token in doc]) # Verifica se e uma palavra\n",
    "print('is_punct: ', [token.is_punct for token in doc]) # Verifica se e uma pontuacao\n",
    "print('like_num: ', [token.like_num for token in doc]) # Verifica se e um numero"
   ]
  },
  {
   "cell_type": "markdown",
   "metadata": {},
   "source": [
    "## 3. Data Structures\n",
    "### 3.1. Vocab, Lexemes e StringStore\n",
    "* **Vocab**: Guarda os dados compartilhados entre multiplos documentos\n",
    "* Para reduzir o custo computacional, todas as strings sao codificadas em hash values.\n",
    "* Strings sao apenas guardadas uma vez em StringStore via nlp.vocab.strings.\n",
    "\n",
    "### 3.1.1. Compartilhando Vocab e armazenando strings"
   ]
  },
  {
   "cell_type": "code",
   "execution_count": 4,
   "metadata": {},
   "outputs": [
    {
     "name": "stdout",
     "output_type": "stream",
     "text": [
      "Hash Value:  32833993555699147\n",
      "String Value:  café\n"
     ]
    }
   ],
   "source": [
    "doc = nlp('Eu amo café')\n",
    "print('Hash Value: ', nlp.vocab.strings['café'])\n",
    "print('String Value: ', nlp.vocab.strings[32833993555699147])"
   ]
  },
  {
   "cell_type": "markdown",
   "metadata": {},
   "source": [
    "### 3.1.2 Lexemes: Entradas no vocabulario\n",
    "* Um objeto Lexeme e uma entrada o vocabulario\n",
    "* Nao depende do contexto\n"
   ]
  },
  {
   "cell_type": "code",
   "execution_count": 5,
   "metadata": {},
   "outputs": [
    {
     "name": "stdout",
     "output_type": "stream",
     "text": [
      "café 32833993555699147 True\n"
     ]
    }
   ],
   "source": [
    "doc = nlp('Eu amo café')\n",
    "lexemme = nlp.vocab['café']\n",
    "print(lexemme.text, lexemme.orth, lexemme.is_alpha)"
   ]
  },
  {
   "cell_type": "markdown",
   "metadata": {},
   "source": [
    "## 3.2 Doc, Span and Token\n",
    "\n",
    "* O Doc é um dos objetos centrais do spaCy. Um Doc é criado automaticamente quando processa-se um texto com o objeto nlp.\n",
    "* Depois de criar um objeto nlp, pode-se import a classe Doc de spacy.tokens\n",
    "* A classe Doc tem 3 argumentos: O Vocab compartilhado, As palavras e os espaços.\n"
   ]
  },
  {
   "cell_type": "code",
   "execution_count": 6,
   "metadata": {},
   "outputs": [
    {
     "name": "stdout",
     "output_type": "stream",
     "text": [
      "Oi Mundo! Oi Mundo\n"
     ]
    }
   ],
   "source": [
    "from spacy.tokens import Doc, Span\n",
    "\n",
    "words = ['Oi', 'Mundo', '!']\n",
    "spaces = [True, False, False]\n",
    "doc = Doc(nlp.vocab, words=words, spaces=spaces)\n",
    "\n",
    "span = Span(doc, 0, 2)\n",
    "span_with_label = Span(doc, 0, 2, label='Saudacoes')\n",
    "\n",
    "doc.ents = [span_with_label]\n",
    "print(doc.text, span)"
   ]
  },
  {
   "cell_type": "markdown",
   "metadata": {
    "toc-hr-collapsed": true
   },
   "source": [
    "## 3.3. Word vectors e similaridades semanticas\n",
    "* spaCy pode comparar dois objetos e predizer sua similaridade\n",
    "> Doc.similarity(), Span.similarity(), Token.similarity()\n",
    "* Pega um objeto e retorna um score de similaridade\n",
    "* O Modelo precisa ter Word Vectors para funcionar bem"
   ]
  },
  {
   "cell_type": "code",
   "execution_count": 7,
   "metadata": {},
   "outputs": [
    {
     "name": "stdout",
     "output_type": "stream",
     "text": [
      "0.822414775542685\n"
     ]
    },
    {
     "name": "stderr",
     "output_type": "stream",
     "text": [
      "/home/leleopc/Downloads/conda/envs/Env1/lib/python3.7/runpy.py:193: ModelsWarning: [W007] The model you're using has no word vectors loaded, so the result of the Doc.similarity method will be based on the tagger, parser and NER, which may not give useful similarity judgements. This may happen if you're using one of the small models, e.g. `en_core_web_sm`, which don't ship with word vectors and only use context-sensitive tensors. You can always add your own word vectors, or use one of the larger models instead if available.\n",
      "  \"__main__\", mod_spec)\n"
     ]
    }
   ],
   "source": [
    "doc_1 = nlp('Eu amo fast food')\n",
    "doc_2 = nlp('Eu amo pizza')\n",
    "print(doc_1.similarity(doc_2))"
   ]
  },
  {
   "cell_type": "markdown",
   "metadata": {},
   "source": [
    "### 3.3.1 Como o spaCy prediz a similaridade?\n",
    "* A similaridade e determinada usando Word Vectors\n",
    "* Significado Multi-dimensional de palavras\n",
    "* A similaridade por Cosseno pode ser ajustada\n",
    "* Frases curtas sao melhores que documentos grandes com palavras irrelevantes"
   ]
  },
  {
   "cell_type": "code",
   "execution_count": 8,
   "metadata": {},
   "outputs": [
    {
     "name": "stdout",
     "output_type": "stream",
     "text": [
      "[  1.1939198   -6.53442     -5.8688383   -6.8318      -1.2632443\n",
      "   4.842185     4.929263     1.6764264   -1.208786     3.7256331\n",
      "   2.9029343    2.9943693    5.186689    -0.6428796    0.52023226\n",
      "  -5.7425995  -12.242809     2.1617079   -2.5336413   -0.18788606\n",
      "   8.600147     0.87637085   4.35049      6.113413    -4.8328347\n",
      "   3.5070467    2.1876416    6.243062    -4.6474767    4.3824987\n",
      "  -3.1894245   -5.83116      3.2183127   -4.216261    -0.94828105\n",
      "  -8.892079     2.6738293    0.926895    -2.1094775   -2.1312869\n",
      "   1.2773345   -1.6779451   10.603294    -2.206038    -7.2862177\n",
      "   2.9273815   -2.089494    -2.6414983    1.4514121   -6.784997\n",
      "   1.6330619   -4.4343033   -5.607864    -1.709214     4.699877\n",
      "  -5.157643     4.681074     3.1368465    3.5729027   -2.9518728\n",
      "   6.5930853   -1.8062642    5.5722623   -5.0710793    6.005385\n",
      "   1.2278724    4.496413    -9.541932    -1.6697747   -1.44403\n",
      "   5.5247426    2.2625136    3.908644    -0.86276877  -7.816847\n",
      "  -3.302119     2.1586566    7.478412    -1.7786198    2.0918343\n",
      "  -4.0848713   -2.3050919    2.8766003    5.791002    -1.6618686\n",
      "   2.6133518   -0.28926095   0.34360218  -3.8000593    7.2549367\n",
      "  -4.3476067   -4.4658194   -2.7969966    5.93769      8.947526\n",
      "  -3.9322371 ]\n"
     ]
    }
   ],
   "source": [
    "doc = nlp('Eu tenho uma banana')\n",
    "print(doc[3].vector)"
   ]
  },
  {
   "cell_type": "markdown",
   "metadata": {},
   "source": [
    "* A similaridade depende do contexto\n"
   ]
  },
  {
   "cell_type": "code",
   "execution_count": 9,
   "metadata": {},
   "outputs": [
    {
     "name": "stdout",
     "output_type": "stream",
     "text": [
      "0.8364147553707078\n"
     ]
    },
    {
     "name": "stderr",
     "output_type": "stream",
     "text": [
      "/home/leleopc/Downloads/conda/envs/Env1/lib/python3.7/runpy.py:193: ModelsWarning: [W007] The model you're using has no word vectors loaded, so the result of the Doc.similarity method will be based on the tagger, parser and NER, which may not give useful similarity judgements. This may happen if you're using one of the small models, e.g. `en_core_web_sm`, which don't ship with word vectors and only use context-sensitive tensors. You can always add your own word vectors, or use one of the larger models instead if available.\n",
      "  \"__main__\", mod_spec)\n"
     ]
    }
   ],
   "source": [
    "doc_1 = nlp('Eu adoro gatos')\n",
    "doc_2 = nlp('Eu odeio cachorros')\n",
    "\n",
    "print(doc_1.similarity(doc_2))"
   ]
  },
  {
   "cell_type": "markdown",
   "metadata": {
    "toc-hr-collapsed": true
   },
   "source": [
    "## 3.4. Combinando Modelos e Regras\n",
    "\n",
    "* **Patterns** sao listas de dicionario, e cara dicionario descreve um token e seus atributos.\n",
    "* Patterns podem ser adicionados a um Matcher usando matcher.addmethod\n",
    "* Chamar o matcher em um objeto doc retornara uma lista de matches. Cada match e uma tupla consistindo em um ID e o comeco e fim do index do token"
   ]
  },
  {
   "cell_type": "code",
   "execution_count": 10,
   "metadata": {},
   "outputs": [
    {
     "name": "stdout",
     "output_type": "stream",
     "text": [
      "[(8737177397717030217, 7, 9), (8737177397717030217, 6, 9)]\n"
     ]
    }
   ],
   "source": [
    "from spacy.matcher import Matcher\n",
    "\n",
    "matcher = Matcher(nlp.vocab)\n",
    "\n",
    "pattern = [{'LEMMA': 'amo', 'POS': 'VERB'}, {'LOWER': 'gatos'}]\n",
    "matcher.add('LOVER_CATS', None, pattern)\n",
    "\n",
    "pattern = [{'TEXT': 'muito', 'OP': '+'}, {'TEXT': 'feliz'}]\n",
    "matcher.add('MUITO_FELIZ', None, pattern)\n",
    "\n",
    "doc = nlp('Eu amo gatos e eu estou muito muito feliz')\n",
    "matches = matcher(doc)\n",
    "print(matches)"
   ]
  },
  {
   "cell_type": "markdown",
   "metadata": {},
   "source": [
    "* Os objetos Span, da-nos acesso ao documento original e todos outros atributos do token e linguistic features predicted pelo modelo.\n"
   ]
  },
  {
   "cell_type": "code",
   "execution_count": 11,
   "metadata": {},
   "outputs": [
    {
     "name": "stdout",
     "output_type": "stream",
     "text": [
      "Matched span: Golden Retriever\n",
      "Root token: Retriever\n",
      "Root gead token: Retriever\n",
      "Previous token: um DET\n"
     ]
    }
   ],
   "source": [
    "matcher = Matcher(nlp.vocab)\n",
    "matcher.add('Cachorro', None, [{'LOWER': 'golden'}, {'LOWER': 'retriever'}])\n",
    "doc = nlp('Eu tenho um Golden Retriever')\n",
    "\n",
    "for match_id, start, end in matcher(doc):\n",
    "    span = doc[start:end]\n",
    "    print('Matched span:', span.text)\n",
    "    print('Root token:', span.root.text)\n",
    "    print('Root gead token:', span.root.head.text)\n",
    "    print('Previous token:', doc[start-1].text, doc[start-1].pos_)"
   ]
  },
  {
   "cell_type": "markdown",
   "metadata": {},
   "source": [
    "### 3.4.1 Efficient Phrase matching\n",
    "* Utiliza o Doc como patterns\n",
    "* Mais eficiente e rapido que o Matcher\n",
    "* Bom para matching em grande quantidade"
   ]
  },
  {
   "cell_type": "code",
   "execution_count": 12,
   "metadata": {},
   "outputs": [
    {
     "name": "stdout",
     "output_type": "stream",
     "text": [
      "Matched span: Golden Retriever\n"
     ]
    }
   ],
   "source": [
    "from spacy.matcher import PhraseMatcher\n",
    "matcher = PhraseMatcher(nlp.vocab)\n",
    "\n",
    "pattern = nlp('Golden Retriever')\n",
    "matcher.add('Cachorro', None, pattern)\n",
    "doc = nlp('Eu tenho um Golden Retriever')\n",
    "\n",
    "for match_id, start, end, in matcher(doc):\n",
    "    span = doc[start:end]\n",
    "    print('Matched span:', span.text)"
   ]
  },
  {
   "cell_type": "markdown",
   "metadata": {
    "toc-hr-collapsed": true
   },
   "source": [
    "## 4. Tecnicas\n",
    "### 4.1 Explica entidades"
   ]
  },
  {
   "cell_type": "code",
   "execution_count": 13,
   "metadata": {},
   "outputs": [
    {
     "name": "stdout",
     "output_type": "stream",
     "text": [
      "Entity: Biggs, Label: PER, Named person or family.\n"
     ]
    }
   ],
   "source": [
    "def explica_entidade(text):\n",
    "    doc = nlp(text)\n",
    "    for ent in doc.ents:\n",
    "        print(f'Entity: {ent}, Label: {ent.label_}, {spacy.explain(ent.label_)}')\n",
    "\n",
    "explica_entidade('Eu queria comer um Biggs')"
   ]
  },
  {
   "cell_type": "code",
   "execution_count": 16,
   "metadata": {},
   "outputs": [],
   "source": [
    "text = 'É um vírus que tem causado doença respiratória pelo agente coronavírus, recentemente identificado na China. Os coronavírus são uma grande família viral, conhecidos desde meados de 1960, que causam infecções respiratórias em seres humanos e em animais. Geralmente, infecções por coronavírus causam doenças respiratórias leves a moderadas, semelhantes a um resfriado comum. Alguns coronavírus podem causar doenças graves com impacto importante em termos de saúde pública, como a Sars (Síndrome Respiratória Aguda Grave), identificada em 2002 e a Mers (Síndrome Respiratória do Oriente Médio), identificada em 2012'"
   ]
  },
  {
   "cell_type": "code",
   "execution_count": 53,
   "metadata": {},
   "outputs": [
    {
     "data": {
      "text/html": [
       "<div class=\"entities\" style=\"line-height: 2.5; direction: ltr\">É um vírus que tem causado doença respiratória pelo agente coronavírus, recentemente identificado na \n",
       "<mark class=\"entity\" style=\"background: #ff9561; padding: 0.45em 0.6em; margin: 0 0.25em; line-height: 1; border-radius: 0.35em;\">\n",
       "    China\n",
       "    <span style=\"font-size: 0.8em; font-weight: bold; line-height: 1; border-radius: 0.35em; text-transform: uppercase; vertical-align: middle; margin-left: 0.5rem\">LOC</span>\n",
       "</mark>\n",
       ". Os coronavírus são uma grande família viral, conhecidos desde meados de 1960, que causam infecções respiratórias em seres humanos e em animais. Geralmente, infecções por coronavírus causam doenças respiratórias leves a moderadas, semelhantes a um resfriado comum. Alguns coronavírus podem causar doenças graves com impacto importante em termos de saúde pública, como a \n",
       "<mark class=\"entity\" style=\"background: #7aecec; padding: 0.45em 0.6em; margin: 0 0.25em; line-height: 1; border-radius: 0.35em;\">\n",
       "    Sars\n",
       "    <span style=\"font-size: 0.8em; font-weight: bold; line-height: 1; border-radius: 0.35em; text-transform: uppercase; vertical-align: middle; margin-left: 0.5rem\">ORG</span>\n",
       "</mark>\n",
       " (\n",
       "<mark class=\"entity\" style=\"background: #ddd; padding: 0.45em 0.6em; margin: 0 0.25em; line-height: 1; border-radius: 0.35em;\">\n",
       "    Síndrome Respiratória Aguda Grave\n",
       "    <span style=\"font-size: 0.8em; font-weight: bold; line-height: 1; border-radius: 0.35em; text-transform: uppercase; vertical-align: middle; margin-left: 0.5rem\">MISC</span>\n",
       "</mark>\n",
       "), identificada em 2002 e a \n",
       "<mark class=\"entity\" style=\"background: #7aecec; padding: 0.45em 0.6em; margin: 0 0.25em; line-height: 1; border-radius: 0.35em;\">\n",
       "    Mers\n",
       "    <span style=\"font-size: 0.8em; font-weight: bold; line-height: 1; border-radius: 0.35em; text-transform: uppercase; vertical-align: middle; margin-left: 0.5rem\">ORG</span>\n",
       "</mark>\n",
       " (\n",
       "<mark class=\"entity\" style=\"background: #ddd; padding: 0.45em 0.6em; margin: 0 0.25em; line-height: 1; border-radius: 0.35em;\">\n",
       "    Síndrome Respiratória do Oriente Médio\n",
       "    <span style=\"font-size: 0.8em; font-weight: bold; line-height: 1; border-radius: 0.35em; text-transform: uppercase; vertical-align: middle; margin-left: 0.5rem\">MISC</span>\n",
       "</mark>\n",
       "), identificada em 2012</div>"
      ],
      "text/plain": [
       "<IPython.core.display.HTML object>"
      ]
     },
     "metadata": {},
     "output_type": "display_data"
    },
    {
     "name": "stdout",
     "output_type": "stream",
     "text": [
      "Entity: China, Label: LOC, Non-GPE locations, mountain ranges, bodies of water\n",
      "Entity: Sars, Label: ORG, Companies, agencies, institutions, etc.\n",
      "Entity: Síndrome Respiratória Aguda Grave, Label: MISC, Miscellaneous entities, e.g. events, nationalities, products or works of art\n",
      "Entity: Mers, Label: ORG, Companies, agencies, institutions, etc.\n",
      "Entity: Síndrome Respiratória do Oriente Médio, Label: MISC, Miscellaneous entities, e.g. events, nationalities, products or works of art\n"
     ]
    }
   ],
   "source": [
    "doc = nlp(text)\n",
    "spacy.displacy.render(doc, style='ent', jupyter=True)\n",
    "explica_entidade(text)\n",
    "#for token in doc:\n",
    "    #print(token, token.pos_)"
   ]
  },
  {
   "cell_type": "markdown",
   "metadata": {},
   "source": [
    "### 4.2 Plotting words"
   ]
  },
  {
   "cell_type": "code",
   "execution_count": 73,
   "metadata": {},
   "outputs": [
    {
     "data": {
      "image/png": "[encoded data removed]",
      "text/plain": [
       "<Figure size 432x288 with 1 Axes>"
      ]
     },
     "metadata": {
      "needs_background": "light"
     },
     "output_type": "display_data"
    }
   ],
   "source": [
    "items = list(doc)\n",
    "items = [str(x) for x in items]\n",
    "df_nouns = pd.DataFrame(items, columns=['Palavras'])\n",
    "plt.figure()\n",
    "sns.countplot(y='Palavras', data=df_nouns, order=df_nouns['Palavras'].value_counts().iloc[:10].index)\n",
    "plt.show()"
   ]
  },
  {
   "cell_type": "code",
   "execution_count": 76,
   "metadata": {},
   "outputs": [
    {
     "data": {
      "image/png": "[encoded data removed]",
      "text/plain": [
       "<Figure size 432x288 with 1 Axes>"
      ]
     },
     "metadata": {
      "needs_background": "light"
     },
     "output_type": "display_data"
    }
   ],
   "source": [
    "items_1 = []\n",
    "for token in doc:\n",
    "    if (not token.is_stop) and (token.pos_ == 'NOUN') and (len(str(token))>2):\n",
    "        items_1.append(token)\n",
    "        \n",
    "items_1 = [str(x) for x in items_1]\n",
    "\n",
    "df_nouns_1 = pd.DataFrame(items_1, columns=['Palavras'])\n",
    "plt.figure()\n",
    "sns.countplot(y='Palavras', data=df_nouns_1, order=df_nouns_1['Palavras'].value_counts().iloc[:10].index)\n",
    "plt.show()"
   ]
  },
  {
   "cell_type": "code",
   "execution_count": 81,
   "metadata": {},
   "outputs": [
    {
     "data": {
      "image/png": "[encoded data removed]",
      "text/plain": [
       "<Figure size 432x288 with 1 Axes>"
      ]
     },
     "metadata": {
      "needs_background": "light"
     },
     "output_type": "display_data"
    }
   ],
   "source": [
    "plt.figure()\n",
    "wordcloud = WordCloud(background_color = 'white',\n",
    "                     stopwords=STOP_WORDS,\n",
    "                     max_words=45,\n",
    "                     max_font_size=30,\n",
    "                     random_state=42,\n",
    "                     ).generate(str(text))\n",
    "plt.imshow(wordcloud)\n",
    "plt.axis('off')\n",
    "plt.show()"
   ]
  }
 ],
 "metadata": {
  "kernelspec": {
   "display_name": "Python [conda env:Env1] *",
   "language": "python",
   "name": "conda-env-Env1-py"
  },
  "language_info": {
   "codemirror_mode": {
    "name": "ipython",
    "version": 3
   },
   "file_extension": ".py",
   "mimetype": "text/x-python",
   "name": "python",
   "nbconvert_exporter": "python",
   "pygments_lexer": "ipython3",
   "version": "3.7.6"
  }
 },
 "nbformat": 4,
 "nbformat_minor": 4
}
